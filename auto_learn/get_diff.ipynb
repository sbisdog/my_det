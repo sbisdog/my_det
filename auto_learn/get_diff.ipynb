{
 "metadata": {
  "language_info": {
   "codemirror_mode": {
    "name": "ipython",
    "version": 3
   },
   "file_extension": ".py",
   "mimetype": "text/x-python",
   "name": "python",
   "nbconvert_exporter": "python",
   "pygments_lexer": "ipython3",
   "version": "3.7.9"
  },
  "orig_nbformat": 2,
  "kernelspec": {
   "name": "python379jvsc74a57bd072383dc783a06550f359160f8855d57939a3fa1a555d117801a132cfa8c1b880",
   "display_name": "Python 3.7.9 64-bit ('torch')"
  }
 },
 "nbformat": 4,
 "nbformat_minor": 2,
 "cells": [
  {
   "cell_type": "code",
   "execution_count": 6,
   "metadata": {},
   "outputs": [],
   "source": [
    "import os\n",
    "import json\n",
    "from  pycocotools.coco import COCO\n",
    "\n",
    "import torch\n",
    "import torch.nn as nn\n",
    "import numpy as np\n",
    "from copy import deepcopy"
   ]
  },
  {
   "cell_type": "code",
   "execution_count": 3,
   "metadata": {},
   "outputs": [],
   "source": [
    "im_dir = \"C:\\\\Users\\\\zhangze\\\\AppData\\\\Roaming\\\\CCwork\\\\7652669648891056\\\\FileRecv\\\\xtrzk\"\n",
    "json_dir = \"C:\\\\Users\\\\zhangze\\\\Desktop\\\\git\\\\my_det\\\\auto_learn\\\\annotations\\\\instances_default.json\""
   ]
  },
  {
   "cell_type": "code",
   "execution_count": 36,
   "metadata": {},
   "outputs": [
    {
     "output_type": "stream",
     "name": "stdout",
     "text": [
      "loading annotations into memory...\n",
      "Done (t=0.29s)\n",
      "creating index...\n",
      "index created!\n"
     ]
    }
   ],
   "source": [
    "or_coco = COCO(json_dir)\n",
    "with open(json_dir, \"r\") as f:\n",
    "    or_json = json.load(f)\n",
    "new_train_json = deepcopy(or_json)\n",
    "new_eval_json = deepcopy(or_json)"
   ]
  },
  {
   "cell_type": "code",
   "execution_count": 37,
   "metadata": {},
   "outputs": [],
   "source": [
    "start = [\"新唐人周刊_1.jpg\",\n",
    "\"新唐人周刊_新唐人周刊_00074.jpg\",\n",
    "\"新唐人周刊_新唐人周刊_00086.jpg\",\n",
    "\"新唐人周刊_新唐人周刊_00422.jpg\",\n",
    "\"新唐人周刊_新唐人周刊_00140.jpg\",\n",
    "\"新唐人周刊_新唐人周刊_00384.jpg\",\n",
    "\"新唐人周刊_新唐人周刊_00482.jpg\",\n",
    "\"新唐人周刊_新唐人周刊_00516.jpg\",\n",
    "\"新唐人周刊_新唐人周刊_00558.jpg\",\n",
    "\"新唐人周刊_新唐人周刊_00568.jpg\"]\n"
   ]
  },
  {
   "cell_type": "code",
   "execution_count": 52,
   "metadata": {},
   "outputs": [],
   "source": [
    "#新唐人周刊\n",
    "train_im_ids = []\n",
    "eval_im_ids = []\n",
    "for item in or_json[\"images\"]:\n",
    "    if item[\"file_name\"] in start:\n",
    "        train_im_ids.append(item[\"id\"])\n",
    "    else:\n",
    "        if item[\"id\"] in [10699,\n",
    "                            10700,\n",
    "                            10701,\n",
    "                            10702,\n",
    "                            11149,\n",
    "                            11435,\n",
    "                            11436,\n",
    "                            11520,\n",
    "                            11863,\n",
    "                            11947,\n",
    "                            11948,\n",
    "                            12000,\n",
    "                            12048]:\n",
    "            continue\n",
    "        ann_id = or_coco.getAnnIds(imgIds=item[\"id\"])\n",
    "        ann = or_coco.loadAnns(ids=ann_id)\n",
    "        if len(ann):\n",
    "            if ann[0][\"category_id\"] == 31:\n",
    "                eval_im_ids.append(item[\"id\"])\n",
    "\n",
    "train_anns_id = or_coco.getAnnIds(imgIds=train_im_ids)\n",
    "new_train_json[\"annotations\"] = or_coco.loadAnns(ids=train_anns_id)\n",
    "new_train_json[\"images\"] = or_coco.loadImgs(ids=train_im_ids)\n",
    "\n",
    "eval_anns_id = or_coco.getAnnIds(imgIds=eval_im_ids)\n",
    "new_eval_json[\"annotations\"] = or_coco.loadAnns(ids=eval_anns_id)\n",
    "new_eval_json[\"images\"] = or_coco.loadImgs(ids=eval_im_ids)\n",
    "\n",
    "json.dump(new_train_json,open(\"./annotations/instances_train.json\", \"w\"))\n",
    "json.dump(new_eval_json, open(\"./annotations/instances_val.json\", \"w\"))"
   ]
  },
  {
   "cell_type": "code",
   "execution_count": 55,
   "metadata": {},
   "outputs": [
    {
     "output_type": "execute_result",
     "data": {
      "text/plain": [
       "838"
      ]
     },
     "metadata": {},
     "execution_count": 55
    }
   ],
   "source": [
    "len(new_eval_json[\"images\"])"
   ]
  },
  {
   "cell_type": "code",
   "execution_count": null,
   "metadata": {},
   "outputs": [],
   "source": []
  }
 ]
}